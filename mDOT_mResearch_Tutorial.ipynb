{
  "nbformat": 4,
  "nbformat_minor": 0,
  "metadata": {
    "colab": {
      "name": "mDOT/mResearch Tutorial",
      "provenance": [],
      "collapsed_sections": [],
      "toc_visible": true,
      "authorship_tag": "ABX9TyMyR7ZqXoMLYdmc3zEeAJyq",
      "include_colab_link": true
    },
    "kernelspec": {
      "name": "python3",
      "display_name": "Python 3"
    },
    "language_info": {
      "name": "python"
    }
  },
  "cells": [
    {
      "cell_type": "markdown",
      "metadata": {
        "id": "view-in-github",
        "colab_type": "text"
      },
      "source": [
        "<a href=\"https://colab.research.google.com/github/mDOT-Center/mResearch-toolkit/blob/main/mDOT_mResearch_Tutorial.ipynb\" target=\"_parent\"><img src=\"https://colab.research.google.com/assets/colab-badge.svg\" alt=\"Open In Colab\"/></a>"
      ]
    },
    {
      "cell_type": "code",
      "metadata": {
        "id": "hR69pR3G6TRF"
      },
      "source": [
        ""
      ],
      "execution_count": null,
      "outputs": []
    },
    {
      "cell_type": "markdown",
      "metadata": {
        "id": "epg_x2Xg7MLN"
      },
      "source": [
        "# Introduction\n",
        "\n"
      ]
    },
    {
      "cell_type": "markdown",
      "metadata": {
        "id": "z-Ub4dRd7YG6"
      },
      "source": [
        "# Tools\n",
        "\n"
      ]
    },
    {
      "cell_type": "markdown",
      "metadata": {
        "id": "upyhF5DJ7Yga"
      },
      "source": [
        "## Cerebral Cortex\n",
        "\n",
        "Cerebral Cortex is MD2K's big data cloud tool designed to support population-scale data analysis, visualization, model development, and intervention design for mobile-sensor data. It provides the ability to do machine learning model development on population scale datasets and provides interoperable interfaces for aggregation of diverse data sources.\n",
        "\n",
        "### Additional Information\n",
        "\n",
        "1. Getting Started\n",
        "  * [![Open In Colab](https://colab.research.google.com/assets/colab-badge.svg)](https://colab.research.google.com/github/MD2Korg/CerebralCortex-Kernel/blob/master/examples/datastream_operation.ipynb) Workflow showing how to perform a basic operation (e.g., read, write, analyze data).\n",
        "\n",
        "2. How to use builtin CC algorithms\n",
        "  * [![Open In Colab](https://colab.research.google.com/assets/colab-badge.svg)](https://colab.research.google.com/github/MD2Korg/CerebralCortex-Kernel/blob/master/examples/cc_algorithms.ipynb) Working example on how to use CC builtin algorithms. GPS clustering algorithm is used in this example.\n",
        "\n",
        "3. How to import data and run analysis on it using CC\n",
        "  * [![Open In Colab](https://colab.research.google.com/assets/colab-badge.svg)](https://colab.research.google.com/github/MD2Korg/CerebralCortex-Kernel/blob/master/examples/import_and_analyse_data.ipynb) This notebook shows how you can import your data into CC and use CC to analyse the data.\n",
        "\n",
        "4. Complete Computational Pipeline (ECG Data to Stress Probabilities)\n",
        "  * [![Open In Colab](https://colab.research.google.com/assets/colab-badge.svg)](https://colab.research.google.com/github/MD2Korg/CerebralCortex-Kernel/blob/master/examples/CC3-Stress-From-ECG.ipynb) This notebook contains a complete computational pipeline for calculating stress probabilities from ECG raw data using CC-kernel builtin algorithms and feature computational capabilities. "
      ]
    },
    {
      "cell_type": "markdown",
      "metadata": {
        "id": "d_TSZP147Ywk"
      },
      "source": [
        "## BioGen Simulator\n",
        "\n",
        "A hierarchical generative model for biological signals (PPG,ECG etc.) that keeps the physiological characteristics intact."
      ]
    },
    {
      "cell_type": "markdown",
      "metadata": {
        "id": "-uhYCh-v7Y_J"
      },
      "source": [
        "## Synthetic Data Generation\n",
        "\n",
        "\n",
        "### Additional Information\n",
        "  * [![Open In Colab](https://colab.research.google.com/assets/colab-badge.svg)](https://colab.research.google.com/drive/1AtLMjPT_hCosX4sr403qA8AWA-XxL5AZ)"
      ]
    },
    {
      "cell_type": "markdown",
      "metadata": {
        "id": "LGX_z8sz8tNW"
      },
      "source": [
        "## mFLow\n",
        "\n",
        "### Additional Information\n",
        "#### Experiment Design Examples\n",
        "* [![Open In Colab](https://colab.research.google.com/assets/colab-badge.svg)](https://colab.research.google.com/github/mlds-lab/mFlow/blob/master/Examples/ExtraSensory-BasicTrainTest.ipynb) Workflow showing how to perform a basic train-test experiment.\n",
        "\n",
        "* [![Open In Colab](https://colab.research.google.com/assets/colab-badge.svg)](https://colab.research.google.com/github/mlds-lab/mFlow/blob/master/Examples/ExtraSensory-ComparingModels.ipynb) Workflow comparing multiple models under a basic train-test experiment design.\n",
        "\n",
        "* [![Open In Colab](https://colab.research.google.com/assets/colab-badge.svg)](https://colab.research.google.com/github/mlds-lab/mFlow/blob/master/Examples/ExtraSensory-BasicCV.ipynb) Workflow showing how to perform a cross-validation assessment experimental workflow comparing two models.  \n",
        "\n",
        "* [![Open In Colab](https://colab.research.google.com/assets/colab-badge.svg)](https://colab.research.google.com/github/mlds-lab/mFlow/blob/master/Examples/ExtraSensory-BasicLOSO.ipynb) Workflow showing how to perform a basic leave-one-subject-out experiment.\n",
        "\n",
        "* [![Open In Colab](https://colab.research.google.com/assets/colab-badge.svg)](https://colab.research.google.com/github/mlds-lab/mFlow/blob/master/Examples/ExtraSensory-BasicWithin.ipynb) Workflow showing how to perform a within-subject train-test split experiment. \n",
        "\n",
        "* [![Open In Colab](https://colab.research.google.com/assets/colab-badge.svg)](https://colab.research.google.com/github/mlds-lab/mFlow/blob/master/Examples/ExtraSensory-ComparingPersonalization.ipynb ) Worflow comparing the leave-one-subject-out and within-subject experimental designs. \n",
        "\n",
        "#### Data Preprocessing Comparisons:\n",
        "\n",
        "* [![Open In Colab](https://colab.research.google.com/assets/colab-badge.svg)](https://colab.research.google.com/github/mlds-lab/mFlow/blob/master/Examples/ExtraSensory-ComparingNormalization.ipynb) Workflow comparing the use of normalization to no normalization in a basic train-test experiment design.\n",
        "\n",
        "* [![Open In Colab](https://colab.research.google.com/assets/colab-badge.svg)](https://colab.research.google.com/github/mlds-lab/mFlow/blob/master/Examples/ExtraSensory-ComparingImputers.ipynb) Workflow comparing mean imputation to zero-imputation in a train-test experiment design.\n",
        "\n",
        "#### Hyper-parameter Optimization Examples\n",
        "\n",
        "* [![Open In Colab](https://colab.research.google.com/assets/colab-badge.svg)](https://colab.research.google.com/github/mlds-lab/mFlow/blob/master/Examples/ExtraSensory-ComparingModels-NestedCV.ipynb) Workflow comparing default hyper-parameters to optimized hyper-parameters for the same models in a basic train-test experiment design.\n",
        "\n",
        "#### Workflow Execution Examples\n",
        "\n",
        "* [![Open In Colab](https://colab.research.google.com/assets/colab-badge.svg)](https://colab.research.google.com/github/mlds-lab/mFlow/blob/master/Examples/ExtraSensory-CompareBackends.ipynb) Experiment comparing workflow scheduling backends.\n",
        "\n",
        "#### Cerebral Cortex Integration Examples\n",
        "\n",
        "* [![Open In Colab](https://colab.research.google.com/assets/colab-badge.svg)](https://colab.research.google.com/github/mlds-lab/mFlow/blob/master/Examples/WESAD-ECG-RR.ipynb) Workflow using Cerebral Cortex feature extractors to get ECG with data quality indicators as well as RR intervals from ECG data. \n",
        "\n",
        "* [![Open In Colab](https://colab.research.google.com/assets/colab-badge.svg)](https://colab.research.google.com/github/mlds-lab/mFlow/blob/master/Examples/WESAD-BasicTrainTest.ipynb) Basic train/test experimental workflow comparing multiple models using Cerebral Cortex feature extractors. \n"
      ]
    },
    {
      "cell_type": "markdown",
      "metadata": {
        "id": "jNKiLAtn8-b6"
      },
      "source": [
        "# Data\n",
        "\n",
        "We use [WESAD](https://archive.ics.uci.edu/ml/datasets/WESAD+%28Wearable+Stress+and+Affect+Detection%29) dataset to demonstarte Cerebral Cortex Kernel capabilities. WESAD is a publicly available dataset for wearable stress and affect detection. This multimodal dataset features physiological and motion data, recorded from both a wrist- and a chest-worn device, of 15 subjects during a lab study. The following sensor modalities are included: blood volume pulse, electrocardiogram, electrodermal activity, electromyogram, respiration, body temperature, and three-axis acceleration. Moreover, the dataset bridges the gap between previous lab studies on stress and emotions, by containing three different affective states (neutral, stress, amusement). In addition, self-reports of the subjects, which were obtained using several established questionnaires, are contained in the dataset. "
      ]
    },
    {
      "cell_type": "markdown",
      "metadata": {
        "id": "bc3EKfDRMxn0"
      },
      "source": [
        "# Setting up the enviornment\n",
        "\n",
        "Colab does not contain the necessary runtime environments necessary to run this tutorial. The following commands will download and install these tools, framework, and datasets.\n"
      ]
    },
    {
      "cell_type": "code",
      "metadata": {
        "colab": {
          "base_uri": "https://localhost:8080/"
        },
        "id": "Sc25dcbPNBs6",
        "outputId": "877f06f7-29ac-4668-abb4-d824b55856d9"
      },
      "source": [
        "import importlib, sys, os\n",
        "from os.path import expanduser\n",
        "sys.path.insert(0, os.path.abspath('..'))\n",
        "\n",
        "DOWNLOAD_USER_DATA=True\n",
        "ALL_USERS=False #this will only  work if DOWNLOAD_USER_DATA=True\n",
        "IN_COLAB = 'google.colab' in sys.modules\n",
        "MD2K_JUPYTER_NOTEBOOK = \"MD2K_JUPYTER_NOTEBOOK\" in os.environ\n",
        "if (get_ipython().__class__.__name__==\"ZMQInteractiveShell\"): IN_JUPYTER_NOTEBOOK = True\n",
        "JAVA_HOME_DEFINED = \"JAVA_HOME\" in os.environ\n",
        "SPARK_HOME_DEFINED = \"SPARK_HOME\" in os.environ\n",
        "PYSPARK_PYTHON_DEFINED = \"PYSPARK_PYTHON\" in os.environ\n",
        "PYSPARK_DRIVER_PYTHON_DEFINED = \"PYSPARK_DRIVER_PYTHON\" in os.environ\n",
        "HAVE_CEREBRALCORTEX_KERNEL = importlib.util.find_spec(\"cerebralcortex\") is not None\n",
        "SPARK_VERSION = \"3.1.2\"\n",
        "SPARK_URL = \"https://archive.apache.org/dist/spark/spark-\"+SPARK_VERSION+\"/spark-\"+SPARK_VERSION+\"-bin-hadoop2.7.tgz\"\n",
        "SPARK_FILE_NAME = \"spark-\"+SPARK_VERSION+\"-bin-hadoop2.7.tgz\"\n",
        "CEREBRALCORTEX_KERNEL_VERSION = \"3.3.14\"\n",
        "\n",
        "DATA_PATH = expanduser(\"~\")\n",
        "if DATA_PATH[:-1]!=\"/\":\n",
        "    DATA_PATH+=\"/\"\n",
        "USER_DATA_PATH = DATA_PATH+\"cc_data/\"\n",
        "\n",
        "if MD2K_JUPYTER_NOTEBOOK:\n",
        "    print(\"Java, Spark, and CerebralCortex-Kernel are installed and paths are already setup.\")\n",
        "else:\n",
        "\n",
        "    SPARK_PATH = DATA_PATH+\"spark-\"+SPARK_VERSION+\"-bin-hadoop2.7/\"\n",
        "    \n",
        "\n",
        "    if(not HAVE_CEREBRALCORTEX_KERNEL):\n",
        "        print(\"Installing CerebralCortex-Kernel\")\n",
        "        !pip -q install cerebralcortex-kernel==$CEREBRALCORTEX_KERNEL_VERSION\n",
        "    else:\n",
        "        print(\"CerebralCortex-Kernel is already installed.\")\n",
        "\n",
        "    if not JAVA_HOME_DEFINED:\n",
        "        if not os.path.exists(\"/usr/lib/jvm/java-8-openjdk-amd64/\") and not os.path.exists(\"/usr/lib/jvm/java-11-openjdk-amd64/\"):\n",
        "            print(\"\\nInstalling/Configuring Java\")\n",
        "            !sudo apt update\n",
        "            !sudo apt-get install -y openjdk-8-jdk-headless\n",
        "            os.environ[\"JAVA_HOME\"] = \"/usr/lib/jvm/java-8-openjdk-amd64/\"\n",
        "        elif os.path.exists(\"/usr/lib/jvm/java-8-openjdk-amd64/\"):\n",
        "            print(\"\\nSetting up Java path\")\n",
        "            os.environ[\"JAVA_HOME\"] = \"/usr/lib/jvm/java-8-openjdk-amd64/\"\n",
        "        elif  os.path.exists(\"/usr/lib/jvm/java-11-openjdk-amd64/\"):\n",
        "            print(\"\\nSetting up Java path\")\n",
        "            os.environ[\"JAVA_HOME\"] = \"/usr/lib/jvm/java-11-openjdk-amd64/\"\n",
        "    else:\n",
        "        print(\"JAVA is already installed.\")\n",
        "\n",
        "    if (IN_COLAB or IN_JUPYTER_NOTEBOOK) and not MD2K_JUPYTER_NOTEBOOK:\n",
        "        if SPARK_HOME_DEFINED:\n",
        "            print(\"SPARK is already installed.\")\n",
        "        elif not os.path.exists(SPARK_PATH):\n",
        "            print(\"\\nSetting up Apache Spark \", SPARK_VERSION)\n",
        "            !pip -q install findspark\n",
        "            import pyspark\n",
        "            spark_installation_path = os.path.dirname(pyspark.__file__)\n",
        "            import findspark\n",
        "            findspark.init(spark_installation_path)\n",
        "            if not os.getenv(\"PYSPARK_PYTHON\"):\n",
        "                os.environ[\"PYSPARK_PYTHON\"] = os.popen('which python3').read().replace(\"\\n\",\"\")\n",
        "            if not os.getenv(\"PYSPARK_DRIVER_PYTHON\"):\n",
        "                os.environ[\"PYSPARK_DRIVER_PYTHON\"] = os.popen('which python3').read().replace(\"\\n\",\"\")\n",
        "        else:\n",
        "            print(\"SPARK is already installed.\")\n",
        "    else:\n",
        "        raise SystemExit(\"Please check your environment configuration at: https://github.com/MD2Korg/CerebralCortex-Kernel/\")\n",
        "\n",
        "if DOWNLOAD_USER_DATA:\n",
        "    if not os.path.exists(USER_DATA_PATH):\n",
        "        if ALL_USERS:\n",
        "            print(\"\\nDownloading all users' data.\")\n",
        "            !rm -rf $USER_DATA_PATH\n",
        "            !wget -q http://mhealth.md2k.org/images/datasets/cc_data.tar.bz2 && tar -xf cc_data.tar.bz2 -C $DATA_PATH && rm cc_data.tar.bz2\n",
        "        else:\n",
        "            print(\"\\nDownloading a user's data.\")\n",
        "            !rm -rf $USER_DATA_PATH\n",
        "            !wget -q http://mhealth.md2k.org/images/datasets/s2_data.tar.bz2 && tar -xf s2_data.tar.bz2 -C $DATA_PATH && rm s2_data.tar.bz2\n",
        "    else:\n",
        "        print(\"Data already exist. Please remove folder\", USER_DATA_PATH, \"if you want to download the data again\")"
      ],
      "execution_count": null,
      "outputs": [
        {
          "output_type": "stream",
          "text": [
            "CerebralCortex-Kernel is already installed.\n",
            "JAVA is already installed.\n",
            "SPARK is already installed.\n",
            "Data already exist. Please remove folder /root/cc_data/ if you want to download the data again\n"
          ],
          "name": "stdout"
        }
      ]
    },
    {
      "cell_type": "code",
      "metadata": {
        "id": "ZobcITQqOUjS"
      },
      "source": [
        ""
      ],
      "execution_count": null,
      "outputs": []
    },
    {
      "cell_type": "code",
      "metadata": {
        "id": "PyqiYxUxObH7"
      },
      "source": [
        ""
      ],
      "execution_count": null,
      "outputs": []
    },
    {
      "cell_type": "code",
      "metadata": {
        "id": "CiG76n1dObVn"
      },
      "source": [
        ""
      ],
      "execution_count": null,
      "outputs": []
    },
    {
      "cell_type": "markdown",
      "metadata": {
        "id": "Yo8GMIN8Oi5D"
      },
      "source": [
        "# New Section"
      ]
    }
  ]
}